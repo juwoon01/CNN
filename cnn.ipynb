{
 "cells": [
  {
   "cell_type": "markdown",
   "metadata": {},
   "source": [
    "# 1. 필요한 패키지 로드"
   ]
  },
  {
   "cell_type": "code",
   "execution_count": 1,
   "metadata": {},
   "outputs": [
    {
     "name": "stderr",
     "output_type": "stream",
     "text": [
      "Using TensorFlow backend.\n"
     ]
    },
    {
     "name": "stdout",
     "output_type": "stream",
     "text": [
      "tensorflow version: 2.1.0\n"
     ]
    }
   ],
   "source": [
    "from keras.preprocessing.image import ImageDataGenerator, load_img\n",
    "from keras.utils import to_categorical\n",
    "from sklearn.model_selection import train_test_split\n",
    "import random\n",
    "import os\n",
    "\n",
    "import shutil\n",
    "import numpy as np\n",
    "import pandas as pd\n",
    "import matplotlib.pyplot as plt\n",
    "%matplotlib inline\n",
    "\n",
    "import tensorflow as tf\n",
    "from tensorflow.keras import layers\n",
    "\n",
    "print('tensorflow version: {}'.format(tf.__version__))"
   ]
  },
  {
   "cell_type": "markdown",
   "metadata": {},
   "source": [
    "# 2. 데이터셋 경로, 파라미터 선언"
   ]
  },
  {
   "cell_type": "code",
   "execution_count": 34,
   "metadata": {},
   "outputs": [],
   "source": [
    "Path = './data/dataset'\n",
    "epochs=50\n",
    "batch_size = 16"
   ]
  },
  {
   "cell_type": "markdown",
   "metadata": {},
   "source": [
    "# 3. 데이터셋  , 데이터 증식"
   ]
  },
  {
   "cell_type": "code",
   "execution_count": 35,
   "metadata": {},
   "outputs": [
    {
     "name": "stdout",
     "output_type": "stream",
     "text": [
      "Found 334 images belonging to 2 classes.\n",
      "Found 37 images belonging to 2 classes.\n"
     ]
    }
   ],
   "source": [
    "imageGenerator = ImageDataGenerator(\n",
    "    rescale=1./255,\n",
    "    rotation_range=20,\n",
    "    width_shift_range=0.1,\n",
    "    height_shift_range=0.1,\n",
    "    brightness_range=[.2, .2],\n",
    "    horizontal_flip=True,\n",
    "    vertical_flip=True,\n",
    "    validation_split=.1\n",
    ")\n",
    "\n",
    "trainGen = imageGenerator.flow_from_directory(\n",
    "    os.path.join(Path, 'train'),\n",
    "    batch_size = batch_size,\n",
    "    target_size=(128, 128),\n",
    "    subset='training'\n",
    ")\n",
    "\n",
    "validationGen = imageGenerator.flow_from_directory(\n",
    "    os.path.join(Path, 'train'),\n",
    "    batch_size = batch_size,\n",
    "    target_size=(128, 128),\n",
    "    subset='validation'\n",
    ")\n",
    "    "
   ]
  },
  {
   "cell_type": "markdown",
   "metadata": {},
   "source": [
    "# 5. 네트워크 설계"
   ]
  },
  {
   "cell_type": "code",
   "execution_count": 49,
   "metadata": {},
   "outputs": [
    {
     "name": "stdout",
     "output_type": "stream",
     "text": [
      "Model: \"sequential_5\"\n",
      "_________________________________________________________________\n",
      "Layer (type)                 Output Shape              Param #   \n",
      "=================================================================\n",
      "conv2d_15 (Conv2D)           (None, 126, 126, 32)      896       \n",
      "_________________________________________________________________\n",
      "batch_normalization_20 (Batc (None, 126, 126, 32)      128       \n",
      "_________________________________________________________________\n",
      "max_pooling2d_15 (MaxPooling (None, 63, 63, 32)        0         \n",
      "_________________________________________________________________\n",
      "dropout_20 (Dropout)         (None, 63, 63, 32)        0         \n",
      "_________________________________________________________________\n",
      "conv2d_16 (Conv2D)           (None, 61, 61, 64)        18496     \n",
      "_________________________________________________________________\n",
      "batch_normalization_21 (Batc (None, 61, 61, 64)        256       \n",
      "_________________________________________________________________\n",
      "max_pooling2d_16 (MaxPooling (None, 30, 30, 64)        0         \n",
      "_________________________________________________________________\n",
      "dropout_21 (Dropout)         (None, 30, 30, 64)        0         \n",
      "_________________________________________________________________\n",
      "conv2d_17 (Conv2D)           (None, 28, 28, 128)       73856     \n",
      "_________________________________________________________________\n",
      "batch_normalization_22 (Batc (None, 28, 28, 128)       512       \n",
      "_________________________________________________________________\n",
      "max_pooling2d_17 (MaxPooling (None, 14, 14, 128)       0         \n",
      "_________________________________________________________________\n",
      "dropout_22 (Dropout)         (None, 14, 14, 128)       0         \n",
      "_________________________________________________________________\n",
      "flatten_5 (Flatten)          (None, 25088)             0         \n",
      "_________________________________________________________________\n",
      "dense_10 (Dense)             (None, 512)               12845568  \n",
      "_________________________________________________________________\n",
      "batch_normalization_23 (Batc (None, 512)               2048      \n",
      "_________________________________________________________________\n",
      "dropout_23 (Dropout)         (None, 512)               0         \n",
      "_________________________________________________________________\n",
      "dense_11 (Dense)             (None, 2)                 1026      \n",
      "=================================================================\n",
      "Total params: 12,942,786\n",
      "Trainable params: 12,941,314\n",
      "Non-trainable params: 1,472\n",
      "_________________________________________________________________\n"
     ]
    }
   ],
   "source": [
    "from tensorflow.keras.models import Sequential\n",
    "from tensorflow.keras import layers\n",
    "\n",
    "model = Sequential()\n",
    "\n",
    "\n",
    "model.add(layers.Conv2D(filters=32, kernel_size=3, activation='relu',input_shape=(128, 128, 3)))\n",
    "model.add(layers.BatchNormalization())\n",
    "model.add(layers.MaxPooling2D())\n",
    "model.add(layers.Dropout(rate=0.25))\n",
    "\n",
    "model.add(layers.Conv2D(filters=64, kernel_size=3, activation='relu'))\n",
    "model.add(layers.BatchNormalization())\n",
    "model.add(layers.MaxPooling2D())\n",
    "model.add(layers.Dropout(rate=0.25))\n",
    "\n",
    "model.add(layers.Conv2D(filters=128, kernel_size=3, activation='relu'))\n",
    "model.add(layers.BatchNormalization())\n",
    "model.add(layers.MaxPooling2D())\n",
    "model.add(layers.Dropout(rate=0.25))\n",
    "\n",
    "model.add(layers.Flatten())\n",
    "model.add(layers.Dense(512, activation='relu'))\n",
    "model.add(layers.BatchNormalization())\n",
    "model.add(layers.Dropout(rate=0.5))\n",
    "model.add(layers.Dense(2, activation='softmax'))\n",
    "\n",
    "\n",
    "\n",
    "model.summary()"
   ]
  },
  {
   "cell_type": "code",
   "execution_count": 50,
   "metadata": {},
   "outputs": [],
   "source": [
    "model.compile(loss='categorical_crossentropy',\n",
    "              optimizer='Adam',\n",
    "              metrics=['accuracy'])"
   ]
  },
  {
   "cell_type": "markdown",
   "metadata": {},
   "source": [
    "# 6. Training"
   ]
  },
  {
   "cell_type": "code",
   "execution_count": 51,
   "metadata": {},
   "outputs": [],
   "source": [
    "from keras.callbacks import EarlyStopping, ReduceLROnPlateau\n",
    "earlystop = EarlyStopping(patience=10)\n",
    "learning_rate_reduction = ReduceLROnPlateau(monitor='val_accuracy',\n",
    "                                           patience=5,\n",
    "                                           verbose=1,\n",
    "                                           factor=0.5,\n",
    "                                           min_lr=0.00001)\n",
    "callbacks=[earlystop,learning_rate_reduction]"
   ]
  },
  {
   "cell_type": "code",
   "execution_count": 52,
   "metadata": {},
   "outputs": [
    {
     "data": {
      "text/plain": [
       "334"
      ]
     },
     "execution_count": 52,
     "metadata": {},
     "output_type": "execute_result"
    }
   ],
   "source": [
    "trainGen.samples"
   ]
  },
  {
   "cell_type": "code",
   "execution_count": 53,
   "metadata": {},
   "outputs": [
    {
     "name": "stdout",
     "output_type": "stream",
     "text": [
      "WARNING:tensorflow:sample_weight modes were coerced from\n",
      "  ...\n",
      "    to  \n",
      "  ['...']\n",
      "WARNING:tensorflow:sample_weight modes were coerced from\n",
      "  ...\n",
      "    to  \n",
      "  ['...']\n",
      "Train for 20 steps, validate for 3 steps\n",
      "Epoch 1/50\n",
      "20/20 [==============================] - 24s 1s/step - loss: 1.4995 - accuracy: 0.6541 - val_loss: 6.7766 - val_accuracy: 0.6757\n",
      "Epoch 2/50\n",
      "20/20 [==============================] - 19s 938ms/step - loss: 0.7817 - accuracy: 0.7264 - val_loss: 17.8865 - val_accuracy: 0.6757\n",
      "Epoch 3/50\n",
      "20/20 [==============================] - 19s 937ms/step - loss: 0.5613 - accuracy: 0.7579 - val_loss: 25.3525 - val_accuracy: 0.6757\n",
      "Epoch 4/50\n",
      "20/20 [==============================] - 18s 921ms/step - loss: 0.5512 - accuracy: 0.7767 - val_loss: 34.5585 - val_accuracy: 0.6757\n",
      "Epoch 5/50\n",
      "20/20 [==============================] - 18s 899ms/step - loss: 0.5232 - accuracy: 0.8082 - val_loss: 43.5726 - val_accuracy: 0.6757\n",
      "Epoch 6/50\n",
      "19/20 [===========================>..] - ETA: 0s - loss: 0.4314 - accuracy: 0.8212\n",
      "Epoch 00006: ReduceLROnPlateau reducing learning rate to 0.0005000000237487257.\n",
      "20/20 [==============================] - 18s 882ms/step - loss: 0.4181 - accuracy: 0.8270 - val_loss: 48.7766 - val_accuracy: 0.6757\n",
      "Epoch 7/50\n",
      "20/20 [==============================] - 17s 857ms/step - loss: 0.5330 - accuracy: 0.7642 - val_loss: 56.6367 - val_accuracy: 0.6757\n",
      "Epoch 8/50\n",
      "20/20 [==============================] - 16s 821ms/step - loss: 0.5402 - accuracy: 0.7830 - val_loss: 60.9989 - val_accuracy: 0.6757\n",
      "Epoch 9/50\n",
      "20/20 [==============================] - 16s 814ms/step - loss: 0.5513 - accuracy: 0.7956 - val_loss: 64.2606 - val_accuracy: 0.6757\n",
      "Epoch 10/50\n",
      "20/20 [==============================] - 17s 827ms/step - loss: 0.4752 - accuracy: 0.8156 - val_loss: 59.4493 - val_accuracy: 0.6757\n",
      "Epoch 11/50\n",
      "19/20 [===========================>..] - ETA: 0s - loss: 0.4409 - accuracy: 0.8113\n",
      "Epoch 00011: ReduceLROnPlateau reducing learning rate to 0.0002500000118743628.\n",
      "20/20 [==============================] - 16s 825ms/step - loss: 0.4445 - accuracy: 0.8050 - val_loss: 54.4214 - val_accuracy: 0.6757\n"
     ]
    }
   ],
   "source": [
    "history = model.fit(\n",
    "    trainGen, \n",
    "    epochs=epochs,\n",
    "    steps_per_epoch= (trainGen.samples//batch_size),\n",
    "    validation_data=validationGen\n",
    "   ,callbacks=callbacks\n",
    ")"
   ]
  },
  {
   "cell_type": "code",
   "execution_count": 54,
   "metadata": {},
   "outputs": [],
   "source": [
    "model.save(\"model.h5\")"
   ]
  },
  {
   "cell_type": "code",
   "execution_count": 86,
   "metadata": {
    "scrolled": true
   },
   "outputs": [],
   "source": [
    "model = tf.keras.models.load_model('model.h5')"
   ]
  },
  {
   "cell_type": "code",
   "execution_count": 55,
   "metadata": {},
   "outputs": [
    {
     "data": {
      "image/png": "[encoded data removed]",
      "text/plain": [
       "<Figure size 432x288 with 1 Axes>"
      ]
     },
     "metadata": {
      "needs_background": "light"
     },
     "output_type": "display_data"
    }
   ],
   "source": [
    "plt.plot(history.history['accuracy'])\n",
    "plt.plot(history.history['val_accuracy'])\n",
    "plt.legend(['training', 'validation'], loc = 'upper left')\n",
    "plt.show()"
   ]
  },
  {
   "cell_type": "code",
   "execution_count": 56,
   "metadata": {},
   "outputs": [],
   "source": [
    "def show_graph(history_dict):\n",
    "    accuracy = history_dict['accuracy']\n",
    "    val_accuracy = history_dict['val_accuracy']\n",
    "    loss = history_dict['loss']\n",
    "    val_loss = history_dict['val_loss']\n",
    "\n",
    "    epochs = range(1, len(loss) + 1)\n",
    "    \n",
    "    plt.figure(figsize=(16, 2))\n",
    "    \n",
    "    plt.subplot(121)\n",
    "    plt.subplots_adjust(top=2)\n",
    "    plt.plot(epochs, accuracy, 'ro', label='Training accuracy')\n",
    "    plt.plot(epochs, val_accuracy, 'r', label='Validation accuracy')\n",
    "    plt.title('Trainging and validation accuracy')\n",
    "    plt.xlabel('Epochs')\n",
    "    plt.ylabel('Accuracy')\n",
    "\n",
    "    plt.subplot(122)\n",
    "    plt.plot(epochs, loss, 'bo', label='Training loss')\n",
    "    plt.plot(epochs, val_loss, 'b', label='Validation loss')\n",
    "    plt.title('Training and validation loss')\n",
    "    plt.xlabel('Epochs')\n",
    "    plt.ylabel('Loss')\n",
    "\n",
    "    plt.show()"
   ]
  },
  {
   "cell_type": "code",
   "execution_count": 57,
   "metadata": {},
   "outputs": [
    {
     "data": {
      "image/png": "[encoded data removed]",
      "text/plain": [
       "<Figure size 1152x144 with 2 Axes>"
      ]
     },
     "metadata": {
      "needs_background": "light"
     },
     "output_type": "display_data"
    }
   ],
   "source": [
    "show_graph(history.history)"
   ]
  },
  {
   "cell_type": "code",
   "execution_count": 58,
   "metadata": {},
   "outputs": [
    {
     "name": "stdout",
     "output_type": "stream",
     "text": [
      "Found 30 images belonging to 2 classes.\n"
     ]
    }
   ],
   "source": [
    "testGenerator = ImageDataGenerator(\n",
    "    rescale=1./255\n",
    ")\n",
    "\n",
    "testGen = imageGenerator.flow_from_directory(\n",
    "    os.path.join(Path, 'test'),\n",
    "    target_size=(128, 128)\n",
    ")"
   ]
  },
  {
   "cell_type": "code",
   "execution_count": 59,
   "metadata": {},
   "outputs": [
    {
     "name": "stdout",
     "output_type": "stream",
     "text": [
      "WARNING:tensorflow:sample_weight modes were coerced from\n",
      "  ...\n",
      "    to  \n",
      "  ['...']\n",
      "1/1 [==============================] - 1s 984ms/step - loss: 50.7719 - accuracy: 0.6667\n",
      "Test accuracy:  0.6666667\n"
     ]
    }
   ],
   "source": [
    "results = model.evaluate(testGen)\n",
    "print('Test accuracy: ', results[1])"
   ]
  },
  {
   "cell_type": "code",
   "execution_count": 13,
   "metadata": {},
   "outputs": [
    {
     "name": "stdout",
     "output_type": "stream",
     "text": [
      "예측: 충치\n",
      "정답: 충치\n"
     ]
    },
    {
     "data": {
      "text/plain": [
       "<matplotlib.image.AxesImage at 0x1cd098e1b08>"
      ]
     },
     "execution_count": 13,
     "metadata": {},
     "output_type": "execute_result"
    },
    {
     "data": {
      "image/png": "[encoded data removed]",
      "text/plain": [
       "<Figure size 432x288 with 1 Axes>"
      ]
     },
     "metadata": {
      "needs_background": "light"
     },
     "output_type": "display_data"
    }
   ],
   "source": [
    "from tensorflow.keras.preprocessing.image import array_to_img\n",
    "\n",
    "cls_index = ['충치', '정상치']\n",
    "\n",
    "imgs = testGen.next()\n",
    "arr = imgs[0][0]\n",
    "img = array_to_img(arr).resize((120, 120))\n",
    "result = model.predict_classes(arr.reshape(1, 120, 120, 3))\n",
    "print('예측: {}'.format(cls_index[result[0]]))\n",
    "print('정답: {}'.format(cls_index[np.argmax(imgs[1][0])]))\n",
    "plt.imshow(img)\n"
   ]
  },
  {
   "cell_type": "code",
   "execution_count": null,
   "metadata": {},
   "outputs": [],
   "source": [
    "#faster-rcnn"
   ]
  }
 ],
 "metadata": {
  "kernelspec": {
   "display_name": "Python 3",
   "language": "python",
   "name": "python3"
  },
  "language_info": {
   "codemirror_mode": {
    "name": "ipython",
    "version": 3
   },
   "file_extension": ".py",
   "mimetype": "text/x-python",
   "name": "python",
   "nbconvert_exporter": "python",
   "pygments_lexer": "ipython3",
   "version": "3.7.4"
  }
 },
 "nbformat": 4,
 "nbformat_minor": 2
}
